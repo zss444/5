{
 "cells": [
  {
   "cell_type": "code",
   "execution_count": 1,
   "id": "85dcb1ef-14da-4906-b5e3-42550b57b8b8",
   "metadata": {},
   "outputs": [],
   "source": [
    "import os\n",
    "import torch\n",
    "import torch.nn as nn\n",
    "import torch.optim as optim\n",
    "import random\n",
    "import numpy as np\n",
    "import spacy\n",
    "import datasets\n",
    "import torchtext\n",
    "import tqdm\n",
    "import evaluate\n"
   ]
  },
  {
   "cell_type": "code",
   "execution_count": 2,
   "id": "0a2bf647-bb3e-47de-900a-a811042f4e8a",
   "metadata": {},
   "outputs": [],
   "source": [
    "seed = 1234\n",
    "\n",
    "random.seed(seed)\n",
    "np.random.seed(seed)\n",
    "torch.manual_seed(seed)\n",
    "torch.cuda.manual_seed(seed)\n",
    "torch.backends.cudnn.deterministic = True\n"
   ]
  },
  {
   "cell_type": "markdown",
   "id": "5cab0a79-33e3-4697-b3df-c7311db35425",
   "metadata": {},
   "source": [
    "## 代码解析\n",
    "\n",
    "### 1. `os.environ['HF_ENDPOINT'] = 'https://hf-mirror.com'` 的作用\n",
    "\n",
    "**改变了什么**：  \n",
    "这行代码将Hugging Face的默认API端点从官方源`https://huggingface.co`改为国内镜像源`https://hf-mirror.com`。\n",
    "\n",
    "**为什么使用镜像源**：\n",
    "- 🚀 **加速下载**：国内服务器网络延迟更低，下载速度更快\n",
    "- 🔒 **稳定连接**：避免国际网络波动导致的中断\n",
    "- 🌐 **绕过限制**：某些网络环境无法直接访问原始域名\n",
    "- ⚖️ **负载均衡**：减轻官方服务器压力\n",
    "\n",
    "速度对比：\n",
    "- 官方源：200KB/s ~ 1MB/s\n",
    "- 镜像源：通常可达5MB/s ~ 20MB/s\n",
    "\n",
    "### 2. `dataset = datasets.load_dataset(\"bentrevett/multi30k\")` 的功能\n",
    "\n",
    "**完成的操作**：\n",
    "1. **检查缓存**：先查找`~/.cache/huggingface/datasets`目录\n",
    "2. **下载数据**：若未缓存则从镜像站下载\n",
    "3. **格式转换**：自动转换为高效的Arrow格式\n",
    "4. **返回对象**：返回包含三个子集的`DatasetDict`对象\n",
    "\n",
    "**数据结构**：\n",
    "```python\n",
    "{\n",
    "    'train': Dataset(29000条),     # 训练集\n",
    "    'validation': Dataset(1014条), # 验证集\n",
    "    'test': Dataset(1000条)       # 测试集\n",
    "}"
   ]
  },
  {
   "cell_type": "code",
   "execution_count": 3,
   "id": "c9ea34ca-b473-4b6a-886c-2e024b504cd5",
   "metadata": {
    "scrolled": true
   },
   "outputs": [],
   "source": [
    "import os\n",
    "from datasets import load_dataset\n",
    "\n",
    "# 1. 基础修改方式\n",
    "os.environ['HF_ENDPOINT'] = 'https://hf-mirror.com'\n",
    "\n",
    "# 2. 加载数据集（自动走镜像）\n",
    "dataset = load_dataset(\"multi30k\")\n"
   ]
  },
  {
   "cell_type": "code",
   "execution_count": 4,
   "id": "c37ce63a-640b-4a9f-9e42-eec9396094f3",
   "metadata": {
    "scrolled": true
   },
   "outputs": [
    {
     "data": {
      "text/plain": [
       "DatasetDict({\n",
       "    train: Dataset({\n",
       "        features: ['en', 'de'],\n",
       "        num_rows: 29000\n",
       "    })\n",
       "    validation: Dataset({\n",
       "        features: ['en', 'de'],\n",
       "        num_rows: 1014\n",
       "    })\n",
       "    test: Dataset({\n",
       "        features: ['en', 'de'],\n",
       "        num_rows: 1000\n",
       "    })\n",
       "})"
      ]
     },
     "execution_count": 4,
     "metadata": {},
     "output_type": "execute_result"
    }
   ],
   "source": [
    "dataset"
   ]
  },
  {
   "cell_type": "code",
   "execution_count": 5,
   "id": "d90b4901-04ff-428d-9573-1cacf36dda81",
   "metadata": {},
   "outputs": [],
   "source": [
    "train_data, valid_data, test_data = (\n",
    "    dataset[\"train\"],\n",
    "    dataset[\"validation\"],\n",
    "    dataset[\"test\"],\n",
    ")"
   ]
  },
  {
   "cell_type": "code",
   "execution_count": 6,
   "id": "b66309f2-c584-44ea-8275-5222981c5de4",
   "metadata": {},
   "outputs": [
    {
     "data": {
      "text/plain": [
       "{'en': 'Two young, White males are outside near many bushes.',\n",
       " 'de': 'Zwei junge weiße Männer sind im Freien in der Nähe vieler Büsche.'}"
      ]
     },
     "execution_count": 6,
     "metadata": {},
     "output_type": "execute_result"
    }
   ],
   "source": [
    "train_data[0]"
   ]
  },
  {
   "cell_type": "code",
   "execution_count": 7,
   "id": "771e40b0-89b0-4c3a-8e91-cf4be0cabc11",
   "metadata": {},
   "outputs": [],
   "source": [
    "en_nlp = spacy.load(\"en_core_web_sm\")\n",
    "de_nlp = spacy.load(\"de_core_news_sm\")"
   ]
  },
  {
   "cell_type": "code",
   "execution_count": 8,
   "id": "88795385-92c7-4746-a134-39093e091e5d",
   "metadata": {},
   "outputs": [
    {
     "data": {
      "text/plain": [
       "['What', 'a', 'lovely', 'day', 'it', 'is', 'today', '!']"
      ]
     },
     "execution_count": 8,
     "metadata": {},
     "output_type": "execute_result"
    }
   ],
   "source": [
    "string = \"What a lovely day it is today!\"\n",
    "\n",
    "[token.text for token in en_nlp.tokenizer(string)]"
   ]
  },
  {
   "cell_type": "markdown",
   "id": "3bca107f-4be0-4d17-a42c-f3140c6fef52",
   "metadata": {},
   "source": [
    "\n",
    "## `tokenize_example` 函数详解\n",
    "\n",
    "### 功能描述\n",
    "这是一个用于处理双语平行语料（英语-德语）的分词预处理函数，主要完成以下转换：\n",
    "```\n",
    "原始句子 → 分词 → 大小写处理 → 添加特殊标记\n",
    "```\n",
    "\n",
    "### 参数说明\n",
    "| 参数 | 类型 | 作用 |\n",
    "|------|------|------|\n",
    "| `example` | dict | 包含\"en\"(英文)和\"de\"(德文)键的字典 |\n",
    "| `en_nlp` | spaCy模型 | 英语分词器 |\n",
    "| `de_nlp` | spaCy模型 | 德语分词器 |\n",
    "| `max_length` | int | 最大分词长度（截断超长句子） |\n",
    "| `lower` | bool | 是否转为小写 |\n",
    "| `sos_token` | str | 句子起始标记 |\n",
    "| `eos_token` | str | 句子结束标记 |\n",
    "\n",
    "### 设计目的\n",
    "1. 统一不同语言的预处理流程\n",
    "2. 为Seq2Seq模型准备标准化的输入格式\n",
    "3. 控制输入序列的最大长度，防止内存溢出\n",
    "```"
   ]
  },
  {
   "cell_type": "code",
   "execution_count": 9,
   "id": "afc29531-96b8-41ce-a259-4d1063d1a127",
   "metadata": {},
   "outputs": [],
   "source": [
    "def tokenize_example(example, en_nlp, de_nlp, max_length, lower, sos_token, eos_token):\n",
    "    en_tokens = [token.text for token in en_nlp.tokenizer(example[\"en\"])][:max_length]\n",
    "    de_tokens = [token.text for token in de_nlp.tokenizer(example[\"de\"])][:max_length]\n",
    "    if lower:\n",
    "        en_tokens = [token.lower() for token in en_tokens]\n",
    "        de_tokens = [token.lower() for token in de_tokens]\n",
    "    en_tokens = [sos_token] + en_tokens + [eos_token]\n",
    "    de_tokens = [sos_token] + de_tokens + [eos_token]\n",
    "    return {\"en_tokens\": en_tokens, \"de_tokens\": de_tokens}"
   ]
  },
  {
   "cell_type": "markdown",
   "id": "ae78689f-d759-420a-88dc-ac3505da3a27",
   "metadata": {},
   "source": [
    "```markdown\n",
    "## 特殊标记与map函数解析\n",
    "\n",
    "### <sos>和<eos>标记详解\n",
    "\n",
    "| 标记    | 全称                  | 作用                                                                 |\n",
    "|---------|-----------------------|----------------------------------------------------------------------|\n",
    "| `<sos>` | Start Of Sentence     | 标识句子开始位置，为模型提供序列起始信号                             |\n",
    "| `<eos>` | End Of Sentence       | 标识句子结束位置，用于控制生成文本长度和标记序列终止                 |\n",
    "\n",
    "**关键特性**：\n",
    "1. 在序列到序列(Seq2Seq)模型中：\n",
    "   - 编码器：通常只需添加`<eos>`\n",
    "   - 解码器：需要同时添加`<sos>`和`<eos>`\n",
    "2. 实际实现时会被转换为特殊ID（如`<sos>=1`, `<eos>=2`）\n",
    "\n",
    "### map函数工作机制\n",
    "\n",
    "```python\n",
    "dataset.map(\n",
    "    tokenize_example,    # 应用的处理函数\n",
    "    fn_kwargs=fn_kwargs  # 传递给函数的参数字典\n",
    ")\n",
    "```\n",
    "\n",
    "**核心功能**：\n",
    "1. **批量处理**：自动遍历数据集所有样本应用处理函数\n",
    "2. **参数传递**：通过`fn_kwargs`将配置参数传递给每个处理函数\n",
    "3. **惰性执行**：HuggingFace数据集特有的延迟计算机制\n",
    "\n",
    "**处理流程**：\n",
    "1. 对每个样本调用`tokenize_example(example, **fn_kwargs)`\n",
    "2. 自动维护处理后的数据集结构\n",
    "3. 只有在实际访问数据时才执行计算（内存优化）\n",
    "\n",
    "**等效实现**：\n",
    "```python\n",
    "processed_data = []\n",
    "for example in train_data:\n",
    "    processed_data.append(tokenize_example(example, **fn_kwargs))\n",
    "```\n",
    "\n",
    "**优势**：\n",
    "- 代码简洁性：1行代码替代显式循环\n",
    "- 性能优化：自动并行处理（可通过`num_proc`参数控制）\n",
    "- 数据一致性：确保所有数据应用相同的预处理逻辑\n",
    "```"
   ]
  },
  {
   "cell_type": "code",
   "execution_count": 10,
   "id": "2dcb6859-a463-4446-8874-d885f0e601c1",
   "metadata": {},
   "outputs": [
    {
     "data": {
      "application/vnd.jupyter.widget-view+json": {
       "model_id": "8f0a9fff5c3d48618103947c86e8e73f",
       "version_major": 2,
       "version_minor": 0
      },
      "text/plain": [
       "Map:   0%|          | 0/1014 [00:00<?, ? examples/s]"
      ]
     },
     "metadata": {},
     "output_type": "display_data"
    },
    {
     "data": {
      "application/vnd.jupyter.widget-view+json": {
       "model_id": "36cf33389ebe4c77a11b6191ba0b7ff8",
       "version_major": 2,
       "version_minor": 0
      },
      "text/plain": [
       "Map:   0%|          | 0/1000 [00:00<?, ? examples/s]"
      ]
     },
     "metadata": {},
     "output_type": "display_data"
    }
   ],
   "source": [
    "max_length = 1_000\n",
    "lower = True\n",
    "sos_token = \"<sos>\"\n",
    "eos_token = \"<eos>\"\n",
    "\n",
    "fn_kwargs = {\n",
    "    \"en_nlp\": en_nlp,\n",
    "    \"de_nlp\": de_nlp,\n",
    "    \"max_length\": max_length,\n",
    "    \"lower\": lower,\n",
    "    \"sos_token\": sos_token,\n",
    "    \"eos_token\": eos_token,\n",
    "}\n",
    "\n",
    "train_data = train_data.map(tokenize_example, fn_kwargs=fn_kwargs)\n",
    "valid_data = valid_data.map(tokenize_example, fn_kwargs=fn_kwargs)\n",
    "test_data = test_data.map(tokenize_example, fn_kwargs=fn_kwargs)"
   ]
  },
  {
   "cell_type": "code",
   "execution_count": 11,
   "id": "e1b0e889-bebd-4935-9f4d-ebdc067fcdaf",
   "metadata": {},
   "outputs": [
    {
     "data": {
      "text/plain": [
       "{'en': 'Two young, White males are outside near many bushes.',\n",
       " 'de': 'Zwei junge weiße Männer sind im Freien in der Nähe vieler Büsche.',\n",
       " 'en_tokens': ['<sos>',\n",
       "  'two',\n",
       "  'young',\n",
       "  ',',\n",
       "  'white',\n",
       "  'males',\n",
       "  'are',\n",
       "  'outside',\n",
       "  'near',\n",
       "  'many',\n",
       "  'bushes',\n",
       "  '.',\n",
       "  '<eos>'],\n",
       " 'de_tokens': ['<sos>',\n",
       "  'zwei',\n",
       "  'junge',\n",
       "  'weiße',\n",
       "  'männer',\n",
       "  'sind',\n",
       "  'im',\n",
       "  'freien',\n",
       "  'in',\n",
       "  'der',\n",
       "  'nähe',\n",
       "  'vieler',\n",
       "  'büsche',\n",
       "  '.',\n",
       "  '<eos>']}"
      ]
     },
     "execution_count": 11,
     "metadata": {},
     "output_type": "execute_result"
    }
   ],
   "source": [
    "\n",
    "train_data[0]"
   ]
  },
  {
   "cell_type": "code",
   "execution_count": 12,
   "id": "7e064a72-7c2a-4285-b08b-827d10786eb5",
   "metadata": {},
   "outputs": [],
   "source": [
    "min_freq = 2\n",
    "unk_token = \"<unk>\"\n",
    "pad_token = \"<pad>\"\n",
    "\n",
    "special_tokens = [\n",
    "    unk_token,\n",
    "    pad_token,\n",
    "    sos_token,\n",
    "    eos_token,\n",
    "]\n",
    "\n",
    "en_vocab = torchtext.vocab.build_vocab_from_iterator(\n",
    "    train_data[\"en_tokens\"],\n",
    "    min_freq=min_freq,\n",
    "    specials=special_tokens,\n",
    ")\n",
    "\n",
    "de_vocab = torchtext.vocab.build_vocab_from_iterator(\n",
    "    train_data[\"de_tokens\"],\n",
    "    min_freq=min_freq,\n",
    "    specials=special_tokens,\n",
    ")\n"
   ]
  },
  {
   "cell_type": "code",
   "execution_count": 13,
   "id": "955f5790-e262-4922-a9d9-658ca5cbd52c",
   "metadata": {},
   "outputs": [
    {
     "data": {
      "text/plain": [
       "['<unk>', '<pad>', '<sos>', '<eos>', 'a', '.', 'in', 'the', 'on', 'man']"
      ]
     },
     "execution_count": 13,
     "metadata": {},
     "output_type": "execute_result"
    }
   ],
   "source": [
    "en_vocab.get_itos()[:10]"
   ]
  },
  {
   "cell_type": "code",
   "execution_count": 14,
   "id": "bcc6bece-57ce-4e3a-9ea3-a89be064df47",
   "metadata": {},
   "outputs": [
    {
     "data": {
      "text/plain": [
       "['<unk>', '<pad>', '<sos>', '<eos>', '.', 'ein', 'einem', 'in', 'eine', ',']"
      ]
     },
     "execution_count": 14,
     "metadata": {},
     "output_type": "execute_result"
    }
   ],
   "source": [
    "de_vocab.get_itos()[:10]"
   ]
  },
  {
   "cell_type": "code",
   "execution_count": 15,
   "id": "6feb956e-1ddf-4dd7-8755-6098573d3289",
   "metadata": {},
   "outputs": [
    {
     "data": {
      "text/plain": [
       "7"
      ]
     },
     "execution_count": 15,
     "metadata": {},
     "output_type": "execute_result"
    }
   ],
   "source": [
    "en_vocab[\"the\"]"
   ]
  },
  {
   "cell_type": "code",
   "execution_count": 16,
   "id": "90caca53-d128-464f-8c0e-568e4b86e45e",
   "metadata": {},
   "outputs": [],
   "source": [
    "assert en_vocab[unk_token] == de_vocab[unk_token]\n",
    "assert en_vocab[pad_token] == de_vocab[pad_token]\n",
    "\n",
    "unk_index = en_vocab[unk_token]\n",
    "pad_index = en_vocab[pad_token]"
   ]
  },
  {
   "cell_type": "code",
   "execution_count": 17,
   "id": "5d99b16b-ee19-4e05-892e-e41af3ac7535",
   "metadata": {},
   "outputs": [],
   "source": [
    "en_vocab.set_default_index(unk_index)\n",
    "de_vocab.set_default_index(unk_index)\n"
   ]
  },
  {
   "cell_type": "code",
   "execution_count": 18,
   "id": "d70cf5aa-0b45-4e42-a7ec-8a6adaea1d0f",
   "metadata": {},
   "outputs": [
    {
     "data": {
      "text/plain": [
       "[956, 2169, 173, 0, 821]"
      ]
     },
     "execution_count": 18,
     "metadata": {},
     "output_type": "execute_result"
    }
   ],
   "source": [
    "tokens = [\"i\", \"love\", \"watching\", \"crime\", \"shows\"]\n",
    "en_vocab.lookup_indices(tokens)"
   ]
  },
  {
   "cell_type": "markdown",
   "id": "200e593a-4862-4ad9-a94e-02d1f5ac4662",
   "metadata": {},
   "source": [
    "```markdown\n",
    "## 词汇表转换中\"crime\"变成<unk>的原因解析\n",
    "\n",
    "### 核心原因\n",
    "\"crime\"被转换成`<unk>`是因为该单词没有被包含在`en_vocab`词汇表中，而`set_default_index(unk_index)`设置了默认处理方式。\n",
    "\n",
    "### 详细解释\n",
    "\n",
    "1. **词汇表工作原理**：\n",
    "   - `en_vocab`是一个预定义的词汇表对象\n",
    "   - 它包含训练集中出现过的单词及其对应索引\n",
    "   - 通过`set_default_index(unk_index)`设置了未知词的处理方式\n",
    "\n",
    "2. **转换过程分析**：\n",
    "   ```python\n",
    "   # 原始token列表\n",
    "   tokens = [\"i\", \"love\", \"watching\", \"crime\", \"shows\"]\n",
    "   \n",
    "   # 转换为索引时\n",
    "   en_vocab.lookup_indices(tokens) → [956, 2169, 173, 0, 821]\n",
    "   # \"crime\"不在词汇表中，返回预设的unk_index(0)\n",
    "   \n",
    "   # 索引转回token时\n",
    "   en_vocab.lookup_tokens([...,0,...]) → [...,'<unk>',...]\n",
    "   # 索引0对应<unk>标记\n",
    "   ```\n",
    "\n",
    "3. **为什么会出现这种情况**：\n",
    "   - 训练数据量不足，未覆盖所有可能单词\n",
    "   - \"crime\"可能是低频词，被词汇表过滤掉了\n",
    "   - 可能是预处理阶段被错误地移除了\n",
    "```"
   ]
  },
  {
   "cell_type": "code",
   "execution_count": 19,
   "id": "d842dd69-42b1-4fef-94cf-78f44a168192",
   "metadata": {},
   "outputs": [
    {
     "data": {
      "text/plain": [
       "['i', 'love', 'watching', '<unk>', 'shows']"
      ]
     },
     "execution_count": 19,
     "metadata": {},
     "output_type": "execute_result"
    }
   ],
   "source": [
    "en_vocab.lookup_tokens(en_vocab.lookup_indices(tokens))"
   ]
  },
  {
   "cell_type": "markdown",
   "id": "e2eb4772-9360-494b-9d2a-82a3ea484ec5",
   "metadata": {},
   "source": [
    "```markdown\n",
    "## 代码功能解析\n",
    "\n",
    "### numericalize_example 函数\n",
    "\n",
    "**核心作用**：\n",
    "- 实现文本token到数值ID的转换\n",
    "- 为神经网络模型准备数值化输入\n",
    "\n",
    "**处理逻辑**：\n",
    "1. 接收包含双语token序列的字典输入\n",
    "2. 分别查询英语和德语的词汇表\n",
    "3. 将token序列转换为对应的ID序列\n",
    "4. 返回包含转换结果的字典\n",
    "\n",
    "### map函数应用\n",
    "\n",
    "核心作用：\n",
    "• 批量执行数值化转换\n",
    "\n",
    "• 保持数据集处理的一致性\n",
    "\n",
    "\n",
    "实现机制：\n",
    "1. 通过fn_kwargs传递词汇表参数\n",
    "2. 自动遍历数据集所有样本\n",
    "3. 对每个样本应用numericalize_example函数\n",
    "4. 返回转换后的新数据集"
   ]
  },
  {
   "cell_type": "code",
   "execution_count": 20,
   "id": "f00c9d7d-0782-4ca7-ac75-f227d6d91b9c",
   "metadata": {},
   "outputs": [],
   "source": [
    "def numericalize_example(example, en_vocab, de_vocab):\n",
    "    en_ids = en_vocab.lookup_indices(example[\"en_tokens\"])\n",
    "    de_ids = de_vocab.lookup_indices(example[\"de_tokens\"])\n",
    "    return {\"en_ids\": en_ids, \"de_ids\": de_ids}"
   ]
  },
  {
   "cell_type": "code",
   "execution_count": 21,
   "id": "337c193f-4ac4-4d75-983d-d2bec6bbf088",
   "metadata": {},
   "outputs": [
    {
     "data": {
      "application/vnd.jupyter.widget-view+json": {
       "model_id": "cfb2ae4084714875b8b196ee73587db7",
       "version_major": 2,
       "version_minor": 0
      },
      "text/plain": [
       "Map:   0%|          | 0/1014 [00:00<?, ? examples/s]"
      ]
     },
     "metadata": {},
     "output_type": "display_data"
    },
    {
     "data": {
      "application/vnd.jupyter.widget-view+json": {
       "model_id": "516d133ac6c9457bb8f4c8b228fc30cd",
       "version_major": 2,
       "version_minor": 0
      },
      "text/plain": [
       "Map:   0%|          | 0/1000 [00:00<?, ? examples/s]"
      ]
     },
     "metadata": {},
     "output_type": "display_data"
    }
   ],
   "source": [
    "fn_kwargs = {\"en_vocab\": en_vocab, \"de_vocab\": de_vocab}\n",
    "\n",
    "train_data = train_data.map(numericalize_example, fn_kwargs=fn_kwargs)\n",
    "valid_data = valid_data.map(numericalize_example, fn_kwargs=fn_kwargs)\n",
    "test_data = test_data.map(numericalize_example, fn_kwargs=fn_kwargs)"
   ]
  },
  {
   "cell_type": "code",
   "execution_count": 22,
   "id": "843f3fa7-3d71-4534-acc9-d321caaeda82",
   "metadata": {},
   "outputs": [
    {
     "data": {
      "text/plain": [
       "{'en': 'Two young, White males are outside near many bushes.',\n",
       " 'de': 'Zwei junge weiße Männer sind im Freien in der Nähe vieler Büsche.',\n",
       " 'en_tokens': ['<sos>',\n",
       "  'two',\n",
       "  'young',\n",
       "  ',',\n",
       "  'white',\n",
       "  'males',\n",
       "  'are',\n",
       "  'outside',\n",
       "  'near',\n",
       "  'many',\n",
       "  'bushes',\n",
       "  '.',\n",
       "  '<eos>'],\n",
       " 'de_tokens': ['<sos>',\n",
       "  'zwei',\n",
       "  'junge',\n",
       "  'weiße',\n",
       "  'männer',\n",
       "  'sind',\n",
       "  'im',\n",
       "  'freien',\n",
       "  'in',\n",
       "  'der',\n",
       "  'nähe',\n",
       "  'vieler',\n",
       "  'büsche',\n",
       "  '.',\n",
       "  '<eos>'],\n",
       " 'en_ids': [2, 16, 24, 15, 25, 778, 17, 57, 80, 202, 1312, 5, 3],\n",
       " 'de_ids': [2, 18, 26, 253, 30, 84, 20, 88, 7, 15, 110, 7647, 3171, 4, 3]}"
      ]
     },
     "execution_count": 22,
     "metadata": {},
     "output_type": "execute_result"
    }
   ],
   "source": [
    "\n",
    "train_data[0]"
   ]
  },
  {
   "cell_type": "code",
   "execution_count": 23,
   "id": "9e8a448c-1fef-43ca-b178-7767733fe7d7",
   "metadata": {},
   "outputs": [],
   "source": [
    "data_type = \"torch\"\n",
    "format_columns = [\"en_ids\", \"de_ids\"]\n",
    "\n",
    "train_data = train_data.with_format(\n",
    "    type=data_type, columns=format_columns, output_all_columns=True\n",
    ")\n",
    "\n",
    "valid_data = valid_data.with_format(\n",
    "    type=data_type,\n",
    "    columns=format_columns,\n",
    "    output_all_columns=True,\n",
    ")\n",
    "\n",
    "test_data = test_data.with_format(\n",
    "    type=data_type,\n",
    "    columns=format_columns,\n",
    "    output_all_columns=True,\n",
    ")"
   ]
  },
  {
   "cell_type": "code",
   "execution_count": 24,
   "id": "9e9b35d4-55c3-4d45-b86c-e3cf56849c5e",
   "metadata": {},
   "outputs": [
    {
     "data": {
      "text/plain": [
       "{'en_ids': tensor([   2,   16,   24,   15,   25,  778,   17,   57,   80,  202, 1312,    5,\n",
       "            3]),\n",
       " 'de_ids': tensor([   2,   18,   26,  253,   30,   84,   20,   88,    7,   15,  110, 7647,\n",
       "         3171,    4,    3]),\n",
       " 'en': 'Two young, White males are outside near many bushes.',\n",
       " 'de': 'Zwei junge weiße Männer sind im Freien in der Nähe vieler Büsche.',\n",
       " 'en_tokens': ['<sos>',\n",
       "  'two',\n",
       "  'young',\n",
       "  ',',\n",
       "  'white',\n",
       "  'males',\n",
       "  'are',\n",
       "  'outside',\n",
       "  'near',\n",
       "  'many',\n",
       "  'bushes',\n",
       "  '.',\n",
       "  '<eos>'],\n",
       " 'de_tokens': ['<sos>',\n",
       "  'zwei',\n",
       "  'junge',\n",
       "  'weiße',\n",
       "  'männer',\n",
       "  'sind',\n",
       "  'im',\n",
       "  'freien',\n",
       "  'in',\n",
       "  'der',\n",
       "  'nähe',\n",
       "  'vieler',\n",
       "  'büsche',\n",
       "  '.',\n",
       "  '<eos>']}"
      ]
     },
     "execution_count": 24,
     "metadata": {},
     "output_type": "execute_result"
    }
   ],
   "source": [
    "\n",
    "train_data[0]"
   ]
  },
  {
   "cell_type": "markdown",
   "id": "88c9145f-2a3b-4f29-b112-d0ef1669414d",
   "metadata": {},
   "source": [
    "```markdown\n",
    "## 数据处理函数解析\n",
    "\n",
    "### `get_collate_fn` 函数\n",
    "\n",
    "**作用**：\n",
    "创建用于处理批次数据的整理函数(collate function)，主要实现：\n",
    "1. 从批次中提取英语和德语的ID序列\n",
    "2. 对不等长序列进行填充对齐\n",
    "3. 返回整理后的批次数据\n",
    "\n",
    "**关键参数**：\n",
    "- `pad_index`: 用于填充的索引值\n",
    "\n",
    "**实现细节**：\n",
    "1. 内部定义`collate_fn`函数处理实际批次数据\n",
    "2. 使用`nn.utils.rnn.pad_sequence`进行序列填充\n",
    "3. 返回包含填充后序列的字典\n",
    "\n",
    "### `get_data_loader` 函数\n",
    "\n",
    "**作用**：\n",
    "创建PyTorch数据加载器(DataLoader)，主要功能：\n",
    "1. 配置数据加载参数\n",
    "2. 应用自定义的整理函数\n",
    "3. 控制数据加载行为\n",
    "\n",
    "**关键参数**：\n",
    "- `dataset`: 要加载的数据集\n",
    "- `batch_size`: 批次大小\n",
    "- `pad_index`: 传递给整理函数的填充索引\n",
    "- `shuffle`: 是否打乱数据顺序\n",
    "\n",
    "**实现细节**：\n",
    "1. 调用`get_collate_fn`获取整理函数\n",
    "2. 创建PyTorch DataLoader实例\n",
    "3. 配置批次加载和顺序控制\n",
    "\n",
    "**组合使用效果**：\n",
    "这两个函数配合实现了：\n",
    "- 自动批次处理\n",
    "- 序列长度对齐\n",
    "- 高效数据加载\n",
    "为模型训练提供格式统一的批次数据\n",
    "```"
   ]
  },
  {
   "cell_type": "code",
   "execution_count": 25,
   "id": "9f00ebf9-0f21-4975-a1c4-4f520018072c",
   "metadata": {},
   "outputs": [],
   "source": [
    "def get_collate_fn(pad_index):\n",
    "    def collate_fn(batch):\n",
    "        batch_en_ids = [example[\"en_ids\"] for example in batch]\n",
    "        batch_de_ids = [example[\"de_ids\"] for example in batch]\n",
    "        batch_en_ids = nn.utils.rnn.pad_sequence(batch_en_ids, padding_value=pad_index)\n",
    "        batch_de_ids = nn.utils.rnn.pad_sequence(batch_de_ids, padding_value=pad_index)\n",
    "        batch = {\n",
    "            \"en_ids\": batch_en_ids,\n",
    "            \"de_ids\": batch_de_ids,\n",
    "        }\n",
    "        return batch\n",
    "\n",
    "    return collate_fn"
   ]
  },
  {
   "cell_type": "code",
   "execution_count": 26,
   "id": "08f24c82-7053-4d30-bf3e-3bac80cc9ddf",
   "metadata": {},
   "outputs": [
    {
     "data": {
      "text/plain": [
       "<function __main__.get_collate_fn.<locals>.collate_fn(batch)>"
      ]
     },
     "execution_count": 26,
     "metadata": {},
     "output_type": "execute_result"
    }
   ],
   "source": [
    "def get_data_loader(dataset, batch_size, pad_index, shuffle=False):\n",
    "    collate_fn = get_collate_fn(pad_index)\n",
    "    data_loader = torch.utils.data.DataLoader(\n",
    "        dataset=dataset,\n",
    "        batch_size=batch_size,\n",
    "        collate_fn=collate_fn,\n",
    "        shuffle=shuffle,\n",
    "    )\n",
    "    return data_loader\n",
    "get_collate_fn(pad_index)"
   ]
  },
  {
   "cell_type": "code",
   "execution_count": 27,
   "id": "65c18f7d-7614-42ec-b06e-a320a099ab7d",
   "metadata": {},
   "outputs": [],
   "source": [
    "\n",
    "batch_size = 128\n",
    "\n",
    "train_data_loader = get_data_loader(train_data, batch_size, pad_index, shuffle=True)\n",
    "valid_data_loader = get_data_loader(valid_data, batch_size, pad_index)\n",
    "test_data_loader = get_data_loader(test_data, batch_size, pad_index)\n"
   ]
  },
  {
   "cell_type": "markdown",
   "id": "85664703-9d73-4242-ad8c-ba73124e5491",
   "metadata": {},
   "source": [
    "```markdown\n",
    "## Encoder类解析\n",
    "\n",
    "### 输入参数\n",
    "| 参数名 | 类型 | 描述 |\n",
    "|--------|------|------|\n",
    "| `input_dim` | int | 输入词汇表大小 |\n",
    "| `embedding_dim` | int | 词嵌入维度 |\n",
    "| `hidden_dim` | int | LSTM隐藏层维度 |\n",
    "| `n_layers` | int | LSTM堆叠层数 |\n",
    "| `dropout` | float | Dropout概率 |\n",
    "\n",
    "### 核心组件\n",
    "1. **词嵌入层** (`nn.Embedding`)\n",
    "   - 将输入的单词索引映射为密集向量表示\n",
    "   - 维度转换：`[seq_len, batch_size]` → `[seq_len, batch_size, embedding_dim]`\n",
    "\n",
    "2. **LSTM层** (`nn.LSTM`)\n",
    "   - 处理变长序列输入\n",
    "   - 支持多层堆叠和dropout\n",
    "   - 自动维护隐藏状态和细胞状态\n",
    "\n",
    "3. **Dropout层** (`nn.Dropout`)\n",
    "   - 在训练时随机丢弃部分神经元\n",
    "   - 防止过拟合，提高模型泛化能力\n",
    "\n",
    "### forward处理流程\n",
    "1. **输入嵌入**\n",
    "   ```python\n",
    "   embedded = self.dropout(self.embedding(src))\n",
    "   ```\n",
    "   - 输入形状：`[src_len, batch_size]`\n",
    "   - 输出形状：`[src_len, batch_size, embedding_dim]`\n",
    "\n",
    "2. **LSTM处理**\n",
    "   ```python\n",
    "   outputs, (hidden, cell) = self.rnn(embedded)\n",
    "   ```\n",
    "   - 自动处理变长序列\n",
    "   - 返回：\n",
    "     - `outputs`: 每个时间步的顶层隐藏状态\n",
    "     - `hidden`: 最后时间步的所有层隐藏状态\n",
    "     - `cell`: 最后时间步的所有层细胞状态\n",
    "\n",
    "### 输出说明\n",
    "| 输出 | 形状 | 描述 |\n",
    "|------|------|------|\n",
    "| `outputs` | `[src_len, batch_size, hidden_dim]` | 每个时间步的编码表示 |\n",
    "| `hidden` | `[n_layers, batch_size, hidden_dim]` | 最终隐藏状态（用于Decoder初始化） |\n",
    "| `cell` | `[n_layers, batch_size, hidden_dim]` | 最终细胞状态（用于Decoder初始化） |\n",
    "\n",
    "### 设计特点\n",
    "1. 支持批处理并行计算\n",
    "2. 自动处理变长序列\n",
    "3. 通过dropout实现正则化\n",
    "4. 输出包含完整的序列信息和最终状态\n",
    "```"
   ]
  },
  {
   "cell_type": "code",
   "execution_count": 28,
   "id": "519707be-70a5-4060-af37-8a8767cbd15e",
   "metadata": {},
   "outputs": [],
   "source": [
    "class Encoder(nn.Module):\n",
    "    def __init__(self, input_dim, embedding_dim, hidden_dim, n_layers, dropout):\n",
    "        super().__init__()\n",
    "        self.hidden_dim = hidden_dim\n",
    "        self.n_layers = n_layers\n",
    "        self.embedding = nn.Embedding(input_dim, embedding_dim)\n",
    "        self.rnn = nn.LSTM(embedding_dim, hidden_dim, n_layers, dropout=dropout)\n",
    "        self.dropout = nn.Dropout(dropout)\n",
    "\n",
    "    def forward(self, src):\n",
    "        # src = [src length, batch size]\n",
    "        embedded = self.dropout(self.embedding(src))\n",
    "        # embedded = [src length, batch size, embedding dim]\n",
    "        outputs, (hidden, cell) = self.rnn(embedded)\n",
    "        # outputs = [src length, batch size, hidden dim * n directions]\n",
    "        # hidden = [n layers * n directions, batch size, hidden dim]\n",
    "        # cell = [n layers * n directions, batch size, hidden dim]\n",
    "        # outputs are always from the top hidden layer\n",
    "        return hidden, cell"
   ]
  },
  {
   "cell_type": "markdown",
   "id": "24f5aaff-bfb4-4249-9d68-4e0bb2bd6cee",
   "metadata": {},
   "source": [
    "## Decoder类解析\n",
    "\n",
    "### 核心功能\n",
    "Decoder实现序列生成任务，将编码后的表示逐步解码为目标语言序列。采用典型的LSTM架构，通过自回归方式逐个生成输出token。\n",
    "\n",
    "### 输入参数\n",
    "| 参数 | 类型 | 描述 |\n",
    "|------|------|------|\n",
    "| `input` | LongTensor | 当前时间步的输入token索引，形状为`[batch_size]` |\n",
    "| `hidden` | FloatTensor | 编码器传递的隐藏状态，形状`[n_layers, batch_size, hidden_dim]` |\n",
    "| `cell` | FloatTensor | 编码器传递的细胞状态，形状`[n_layers, batch_size, hidden_dim]` |\n",
    "\n",
    "### 组件结构\n",
    "1. **词嵌入层** (`nn.Embedding`)\n",
    "   - 将离散token索引映射为连续向量空间\n",
    "   - 输入维度：`output_dim` (目标词汇表大小)\n",
    "   - 输出维度：`embedding_dim`\n",
    "\n",
    "2. **LSTM层** (`nn.LSTM`)\n",
    "   - 多层LSTM结构，保持与Encoder相同的隐藏维度\n",
    "   - 使用dropout进行正则化\n",
    "   - 处理序列生成任务\n",
    "\n",
    "3. **全连接层** (`nn.Linear`)\n",
    "   - 将LSTM输出投影到目标词汇表空间\n",
    "   - 计算每个token的生成概率\n",
    "\n",
    "### 处理流程\n",
    "1. **输入预处理**\n",
    "   ```python\n",
    "   input = input.unsqueeze(0)  # [batch_size] → [1, batch_size]"
   ]
  },
  {
   "cell_type": "code",
   "execution_count": 29,
   "id": "967d5340-b9b4-401a-ba92-dae55d4ed43d",
   "metadata": {},
   "outputs": [],
   "source": [
    "class Decoder(nn.Module):\n",
    "    def __init__(self, output_dim, embedding_dim, hidden_dim, n_layers, dropout):\n",
    "        super().__init__()\n",
    "        self.output_dim = output_dim\n",
    "        self.hidden_dim = hidden_dim\n",
    "        self.n_layers = n_layers\n",
    "        self.embedding = nn.Embedding(output_dim, embedding_dim)\n",
    "        self.rnn = nn.LSTM(embedding_dim, hidden_dim, n_layers, dropout=dropout)\n",
    "        self.fc_out = nn.Linear(hidden_dim, output_dim)\n",
    "        self.dropout = nn.Dropout(dropout)\n",
    "\n",
    "    def forward(self, input, hidden, cell):\n",
    "        # input = [batch size]\n",
    "        # hidden = [n layers * n directions, batch size, hidden dim]\n",
    "        # cell = [n layers * n directions, batch size, hidden dim]\n",
    "        # n directions in the decoder will both always be 1, therefore:\n",
    "        # hidden = [n layers, batch size, hidden dim]\n",
    "        # context = [n layers, batch size, hidden dim]\n",
    "        input = input.unsqueeze(0)\n",
    "        # input = [1, batch size]\n",
    "        embedded = self.dropout(self.embedding(input))\n",
    "        # embedded = [1, batch size, embedding dim]\n",
    "        output, (hidden, cell) = self.rnn(embedded, (hidden, cell))\n",
    "        # output = [seq length, batch size, hidden dim * n directions]\n",
    "        # hidden = [n layers * n directions, batch size, hidden dim]\n",
    "        # cell = [n layers * n directions, batch size, hidden dim]\n",
    "        # seq length and n directions will always be 1 in this decoder, therefore:\n",
    "        # output = [1, batch size, hidden dim]\n",
    "        # hidden = [n layers, batch size, hidden dim]\n",
    "        # cell = [n layers, batch size, hidden dim]\n",
    "        prediction = self.fc_out(output.squeeze(0))\n",
    "        # prediction = [batch size, output dim]\n",
    "        return prediction, hidden, cell"
   ]
  },
  {
   "cell_type": "markdown",
   "id": "e4dba93f-fa5f-4faa-a322-2fb338542938",
   "metadata": {},
   "source": [
    "```markdown\n",
    "## Seq2Seq类解析\n",
    "\n",
    "### 整体架构\n",
    "Seq2Seq模型由Encoder和Decoder组成，实现端到端的序列转换任务（如机器翻译）。通过Encoder编码源序列，Decoder逐步生成目标序列。\n",
    "\n",
    "### forward处理流程\n",
    "\n",
    "1. **初始化阶段**\n",
    "   ```python\n",
    "   outputs = torch.zeros(trg_length, batch_size, trg_vocab_size).to(self.device)\n",
    "   hidden, cell = self.encoder(src)\n",
    "   input = trg[0, :]  # 初始输入为<sos>标记\n",
    "   ```\n",
    "   - 创建输出张量存储每个时间步的预测\n",
    "   - 通过Encoder获取源序列的编码状态\n",
    "   - 使用目标序列的首个token(<sos>)初始化Decoder\n",
    "\n",
    "2. **序列生成循环**\n",
    "   ```python\n",
    "   for t in range(1, trg_length):\n",
    "       output, hidden, cell = self.decoder(input, hidden, cell)\n",
    "       outputs[t] = output\n",
    "       top1 = output.argmax(1)  # 获取预测token\n",
    "       input = trg[t] if teacher_force else top1  # 选择输入来源\n",
    "   ```\n",
    "   - 每个时间步：\n",
    "     1. 通过Decoder生成当前输出和更新状态\n",
    "     2. 存储预测分布到outputs\n",
    "     3. 根据teacher forcing策略决定下一步输入\n",
    "\n",
    "3. **输出结果**\n",
    "   - 返回形状为`[trg_length, batch_size, trg_vocab_size]`的预测张量\n",
    "   - 每个位置包含对应时间步的词汇表概率分布\n",
    "\n",
    "### Teacher Forcing机制\n",
    "\n",
    "| 机制 | 说明 | 数学表示 |\n",
    "|------|------|----------|\n",
    "| **启用时** (概率=teacher_forcing_ratio) | 使用真实目标序列作为Decoder输入 | $input_t = trg_t$ |\n",
    "| **禁用时** | 使用Decoder上一步的预测结果作为输入 | $input_t = \\argmax(output_{t-1})$ |\n",
    "\n",
    "**工作特点**：\n",
    "1. 训练时随机切换两种模式（通过`random.random()`实现）\n",
    "2. 典型设置：初始teacher_forcing_ratio=0.75，随着训练逐步降低\n",
    "3. 验证/测试时通常设为0（完全使用模型自身预测）\n",
    "\n",
    "### 设计要点\n",
    "1. **维度一致性检查**：构造函数验证Encoder/Decoder的hidden_dim和n_layers匹配\n",
    "2. **设备管理**：显式处理张量设备（通过self.device）\n",
    "3. **序列生成**：通过循环实现自回归生成，支持变长输出\n",
    "4. **灵活控制**：teacher_forcing_ratio可动态调整训练行为\n",
    "```"
   ]
  },
  {
   "cell_type": "code",
   "execution_count": 30,
   "id": "4736301d-0c39-4d7d-902d-6ba31271b32c",
   "metadata": {},
   "outputs": [],
   "source": [
    "class Seq2Seq(nn.Module):\n",
    "    def __init__(self, encoder, decoder, device):\n",
    "        super().__init__()\n",
    "        self.encoder = encoder\n",
    "        self.decoder = decoder\n",
    "        self.device = device\n",
    "        assert (\n",
    "            encoder.hidden_dim == decoder.hidden_dim\n",
    "        ), \"Hidden dimensions of encoder and decoder must be equal!\"\n",
    "        assert (\n",
    "            encoder.n_layers == decoder.n_layers\n",
    "        ), \"Encoder and decoder must have equal number of layers!\"\n",
    "\n",
    "    def forward(self, src, trg, teacher_forcing_ratio):\n",
    "        # src = [src length, batch size]\n",
    "        # trg = [trg length, batch size]\n",
    "        # teacher_forcing_ratio is probability to use teacher forcing\n",
    "        # e.g. if teacher_forcing_ratio is 0.75 we use ground-truth inputs 75% of the time\n",
    "        batch_size = trg.shape[1]\n",
    "        trg_length = trg.shape[0]\n",
    "        trg_vocab_size = self.decoder.output_dim\n",
    "        # tensor to store decoder outputs\n",
    "        outputs = torch.zeros(trg_length, batch_size, trg_vocab_size).to(self.device)\n",
    "        # last hidden state of the encoder is used as the initial hidden state of the decoder\n",
    "        hidden, cell = self.encoder(src)\n",
    "        # hidden = [n layers * n directions, batch size, hidden dim]\n",
    "        # cell = [n layers * n directions, batch size, hidden dim]\n",
    "        # first input to the decoder is the <sos> tokens\n",
    "        input = trg[0, :]\n",
    "        # input = [batch size]\n",
    "        for t in range(1, trg_length):\n",
    "            # insert input token embedding, previous hidden and previous cell states\n",
    "            # receive output tensor (predictions) and new hidden and cell states\n",
    "            output, hidden, cell = self.decoder(input, hidden, cell)\n",
    "            # output = [batch size, output dim]\n",
    "            # hidden = [n layers, batch size, hidden dim]\n",
    "            # cell = [n layers, batch size, hidden dim]\n",
    "            # place predictions in a tensor holding predictions for each token\n",
    "            outputs[t] = output\n",
    "            # decide if we are going to use teacher forcing or not\n",
    "            teacher_force = random.random() < teacher_forcing_ratio\n",
    "            # get the highest predicted token from our predictions\n",
    "            top1 = output.argmax(1)\n",
    "            # if teacher forcing, use actual next token as next input\n",
    "            # if not, use predicted token\n",
    "            input = trg[t] if teacher_force else top1\n",
    "            # input = [batch size]\n",
    "        return outputs"
   ]
  },
  {
   "cell_type": "code",
   "execution_count": 31,
   "id": "832d8ca7-bb86-4b37-a522-280331d3c958",
   "metadata": {},
   "outputs": [],
   "source": [
    "input_dim = len(de_vocab)\n",
    "output_dim = len(en_vocab)\n",
    "encoder_embedding_dim = 256\n",
    "decoder_embedding_dim = 256\n",
    "hidden_dim = 512\n",
    "n_layers = 2\n",
    "encoder_dropout = 0.5\n",
    "decoder_dropout = 0.5\n",
    "device = torch.device(\"cuda\" if torch.cuda.is_available() else \"cpu\")\n",
    "# 编码器初始化\n",
    "encoder = Encoder(\n",
    "    input_dim,\n",
    "    encoder_embedding_dim,\n",
    "    hidden_dim,\n",
    "    n_layers,\n",
    "    encoder_dropout,\n",
    ")\n",
    "# 解码器初始化\n",
    "decoder = Decoder(\n",
    "    output_dim,\n",
    "    decoder_embedding_dim,\n",
    "    hidden_dim,\n",
    "    n_layers,\n",
    "    decoder_dropout,\n",
    ")\n",
    "# Seq2Seq模型整合\n",
    "model = Seq2Seq(encoder, decoder, device).to(device)"
   ]
  },
  {
   "cell_type": "code",
   "execution_count": 32,
   "id": "6ef193e6-4ceb-460f-91b4-77f8c52e2542",
   "metadata": {},
   "outputs": [
    {
     "data": {
      "text/plain": [
       "Seq2Seq(\n",
       "  (encoder): Encoder(\n",
       "    (embedding): Embedding(7853, 256)\n",
       "    (rnn): LSTM(256, 512, num_layers=2, dropout=0.5)\n",
       "    (dropout): Dropout(p=0.5, inplace=False)\n",
       "  )\n",
       "  (decoder): Decoder(\n",
       "    (embedding): Embedding(5893, 256)\n",
       "    (rnn): LSTM(256, 512, num_layers=2, dropout=0.5)\n",
       "    (fc_out): Linear(in_features=512, out_features=5893, bias=True)\n",
       "    (dropout): Dropout(p=0.5, inplace=False)\n",
       "  )\n",
       ")"
      ]
     },
     "execution_count": 32,
     "metadata": {},
     "output_type": "execute_result"
    }
   ],
   "source": [
    "def init_weights(m):\n",
    "    for name, param in m.named_parameters():\n",
    "        nn.init.uniform_(param.data, -0.08, 0.08)\n",
    "\n",
    "\n",
    "model.apply(init_weights)"
   ]
  },
  {
   "cell_type": "code",
   "execution_count": 33,
   "id": "cf0025c5-f117-450c-81da-c4d986d75ab4",
   "metadata": {},
   "outputs": [
    {
     "name": "stdout",
     "output_type": "stream",
     "text": [
      "The model has 13,898,501 trainable parameters\n"
     ]
    }
   ],
   "source": [
    "def count_parameters(model):\n",
    "    return sum(p.numel() for p in model.parameters() if p.requires_grad)\n",
    "\n",
    "\n",
    "print(f\"The model has {count_parameters(model):,} trainable parameters\")"
   ]
  },
  {
   "cell_type": "code",
   "execution_count": 34,
   "id": "fdad372c-f2ab-4eae-8482-4d6393ab79a3",
   "metadata": {},
   "outputs": [],
   "source": [
    "optimizer = optim.Adam(model.parameters())"
   ]
  },
  {
   "cell_type": "code",
   "execution_count": 35,
   "id": "573ead36-c266-4269-8699-6b3f14aa5d13",
   "metadata": {},
   "outputs": [],
   "source": [
    "criterion = nn.CrossEntropyLoss(ignore_index=pad_index)"
   ]
  },
  {
   "cell_type": "code",
   "execution_count": 36,
   "id": "527b98e2-f2cc-47b7-aa8b-afcc88e698a1",
   "metadata": {},
   "outputs": [],
   "source": [
    "def train_fn(\n",
    "    model, data_loader, optimizer, criterion, clip, teacher_forcing_ratio, device\n",
    "):\n",
    "    # 设置模型为训练模式\n",
    "    model.train()\n",
    "    # 初始化当前epoch的总损失\n",
    "    epoch_loss = 0\n",
    "    # 遍历数据加载器中的每个批次\n",
    "    for i, batch in enumerate(data_loader):\n",
    "        # 获取源语言序列并移动到指定设备\n",
    "        src = batch[\"de_ids\"].to(device)\n",
    "        # 获取目标语言序列并移动到指定设备\n",
    "        trg = batch[\"en_ids\"].to(device)\n",
    "        # src的形状为 [src length, batch size]\n",
    "        # trg的形状为 [trg length, batch size]\n",
    "        \n",
    "        # 清空优化器的梯度\n",
    "        optimizer.zero_grad()\n",
    "        # 将源序列和目标序列输入模型，获取输出\n",
    "        output = model(src, trg, teacher_forcing_ratio)\n",
    "        # output的形状为 [trg length, batch size, trg vocab size]\n",
    "        \n",
    "        # 获取目标词汇表的大小\n",
    "        output_dim = output.shape[-1]\n",
    "        # 去掉输出的第一个时间步（<sos>），并调整形状以适配损失函数\n",
    "        output = output[1:].view(-1, output_dim)\n",
    "        # output的形状为 [(trg length - 1) * batch size, trg vocab size]\n",
    "        \n",
    "        # 去掉目标序列的第一个时间步（<sos>），并调整形状以适配损失函数\n",
    "        trg = trg[1:].view(-1)\n",
    "        # trg的形状为 [(trg length - 1) * batch size]\n",
    "        \n",
    "        # 计算当前批次的损失\n",
    "        loss = criterion(output, trg)\n",
    "        # 反向传播计算梯度\n",
    "        loss.backward()\n",
    "        # 对梯度进行裁剪，防止梯度爆炸\n",
    "        torch.nn.utils.clip_grad_norm_(model.parameters(), clip)\n",
    "        # 更新模型参数\n",
    "        optimizer.step()\n",
    "        # 累加当前批次的损失\n",
    "        epoch_loss += loss.item()\n",
    "    \n",
    "    # 返回当前epoch的平均损失\n",
    "    return epoch_loss / len(data_loader)\n",
    "\n"
   ]
  },
  {
   "cell_type": "code",
   "execution_count": 37,
   "id": "6640f38c-f962-4b3d-8e1c-7a5d246d9318",
   "metadata": {},
   "outputs": [],
   "source": [
    "def evaluate_fn(model, data_loader, criterion, device):\n",
    "    model.eval()\n",
    "    epoch_loss = 0\n",
    "    with torch.no_grad():\n",
    "        for i, batch in enumerate(data_loader):\n",
    "            src = batch[\"de_ids\"].to(device)\n",
    "            trg = batch[\"en_ids\"].to(device)\n",
    "            # src = [src length, batch size]\n",
    "            # trg = [trg length, batch size]\n",
    "            output = model(src, trg, 0)  # turn off teacher forcing\n",
    "            # output = [trg length, batch size, trg vocab size]\n",
    "            output_dim = output.shape[-1]\n",
    "            output = output[1:].view(-1, output_dim)\n",
    "            # output = [(trg length - 1) * batch size, trg vocab size]\n",
    "            trg = trg[1:].view(-1)\n",
    "            # trg = [(trg length - 1) * batch size]\n",
    "            loss = criterion(output, trg)\n",
    "            epoch_loss += loss.item()\n",
    "    return epoch_loss / len(data_loader)"
   ]
  },
  {
   "cell_type": "code",
   "execution_count": 38,
   "id": "4f0a0ab4-1b88-4958-ae59-ed440fd9a8b0",
   "metadata": {},
   "outputs": [
    {
     "name": "stderr",
     "output_type": "stream",
     "text": [
      "100%|███████████████████████████████████████████████████████████████████████████████████| 1/1 [04:59<00:00, 299.49s/it]"
     ]
    },
    {
     "name": "stdout",
     "output_type": "stream",
     "text": [
      "\tTrain Loss:   5.026 | Train PPL: 152.277\n",
      "\tValid Loss:   4.861 | Valid PPL: 129.150\n"
     ]
    },
    {
     "name": "stderr",
     "output_type": "stream",
     "text": [
      "\n"
     ]
    }
   ],
   "source": [
    "n_epochs = 1 # 因模型训练对计算资源要求较高，此处只设立了一轮训练。\n",
    "clip = 1.0\n",
    "teacher_forcing_ratio = 0.5\n",
    "\n",
    "best_valid_loss = float(\"inf\")\n",
    "\n",
    "for epoch in tqdm.tqdm(range(n_epochs)):\n",
    "    train_loss = train_fn(\n",
    "        model,\n",
    "        train_data_loader,\n",
    "        optimizer,\n",
    "        criterion,\n",
    "        clip,\n",
    "        teacher_forcing_ratio,\n",
    "        device,\n",
    "    )\n",
    "    valid_loss = evaluate_fn(\n",
    "        model,\n",
    "        valid_data_loader,\n",
    "        criterion,\n",
    "        device,\n",
    "    )\n",
    "    if valid_loss < best_valid_loss:\n",
    "        best_valid_loss = valid_loss\n",
    "        torch.save(model.state_dict(), \"tut1-model.pt\")\n",
    "    print(f\"\\tTrain Loss: {train_loss:7.3f} | Train PPL: {np.exp(train_loss):7.3f}\")\n",
    "    print(f\"\\tValid Loss: {valid_loss:7.3f} | Valid PPL: {np.exp(valid_loss):7.3f}\")"
   ]
  },
  {
   "cell_type": "code",
   "execution_count": 39,
   "id": "e10ababa-e800-43df-8850-b45685feccd4",
   "metadata": {},
   "outputs": [
    {
     "data": {
      "text/plain": [
       "<All keys matched successfully>"
      ]
     },
     "execution_count": 39,
     "metadata": {},
     "output_type": "execute_result"
    }
   ],
   "source": [
    "model.load_state_dict(torch.load(\"tut1-model.pt\"))"
   ]
  },
  {
   "cell_type": "code",
   "execution_count": 40,
   "id": "dad37c3b-46f7-4f8a-8b1e-cc7138e84386",
   "metadata": {},
   "outputs": [],
   "source": [
    "def translate_sentence(\n",
    "    sentence,\n",
    "    model,\n",
    "    en_nlp,\n",
    "    de_nlp,\n",
    "    en_vocab,\n",
    "    de_vocab,\n",
    "    lower,\n",
    "    sos_token,\n",
    "    eos_token,\n",
    "    device,\n",
    "    max_output_length=25,\n",
    "):\n",
    "    model.eval()\n",
    "    with torch.no_grad():\n",
    "        if isinstance(sentence, str):\n",
    "            tokens = [token.text for token in de_nlp.tokenizer(sentence)]\n",
    "        else:\n",
    "            tokens = [token for token in sentence]\n",
    "        if lower:\n",
    "            tokens = [token.lower() for token in tokens]\n",
    "        tokens = [sos_token] + tokens + [eos_token]\n",
    "        ids = de_vocab.lookup_indices(tokens)\n",
    "        tensor = torch.LongTensor(ids).unsqueeze(-1).to(device)\n",
    "        hidden, cell = model.encoder(tensor)\n",
    "        inputs = en_vocab.lookup_indices([sos_token])\n",
    "        for _ in range(max_output_length):\n",
    "            inputs_tensor = torch.LongTensor([inputs[-1]]).to(device)\n",
    "            output, hidden, cell = model.decoder(inputs_tensor, hidden, cell)\n",
    "            predicted_token = output.argmax(-1).item()\n",
    "            inputs.append(predicted_token)\n",
    "            if predicted_token == en_vocab[eos_token]:\n",
    "                break\n",
    "        tokens = en_vocab.lookup_tokens(inputs)\n",
    "    return tokens"
   ]
  },
  {
   "cell_type": "code",
   "execution_count": 41,
   "id": "f3755d0c-11d2-48a9-bbcf-61182650a5e2",
   "metadata": {},
   "outputs": [
    {
     "data": {
      "text/plain": [
       "('Ein Mann mit einem orangefarbenen Hut, der etwas anstarrt.',\n",
       " 'A man in an orange hat starring at something.')"
      ]
     },
     "execution_count": 41,
     "metadata": {},
     "output_type": "execute_result"
    }
   ],
   "source": [
    "sentence = test_data[0][\"de\"]\n",
    "expected_translation = test_data[0][\"en\"]\n",
    "\n",
    "sentence, expected_translation"
   ]
  },
  {
   "cell_type": "code",
   "execution_count": 42,
   "id": "6ca3f535-e8a1-4a83-a531-8d818f0fe312",
   "metadata": {},
   "outputs": [],
   "source": [
    "translation = translate_sentence(\n",
    "    sentence,\n",
    "    model,\n",
    "    en_nlp,\n",
    "    de_nlp,\n",
    "    en_vocab,\n",
    "    de_vocab,\n",
    "    lower,\n",
    "    sos_token,\n",
    "    eos_token,\n",
    "    device,\n",
    ")"
   ]
  },
  {
   "cell_type": "code",
   "execution_count": 43,
   "id": "49fd16c0-f72b-40e8-ae0a-a4389abe2fe2",
   "metadata": {},
   "outputs": [
    {
     "data": {
      "text/plain": [
       "['<sos>',\n",
       " 'a',\n",
       " 'man',\n",
       " 'in',\n",
       " 'a',\n",
       " 'a',\n",
       " 'shirt',\n",
       " 'is',\n",
       " 'a',\n",
       " 'a',\n",
       " 'a',\n",
       " '.',\n",
       " '<eos>']"
      ]
     },
     "execution_count": 43,
     "metadata": {},
     "output_type": "execute_result"
    }
   ],
   "source": [
    "translation"
   ]
  },
  {
   "cell_type": "code",
   "execution_count": null,
   "id": "4c13bb2c-1f53-4de6-a2ec-573ffa169a35",
   "metadata": {},
   "outputs": [],
   "source": []
  }
 ],
 "metadata": {
  "kernelspec": {
   "display_name": "Python 3 (ipykernel)",
   "language": "python",
   "name": "python3"
  },
  "language_info": {
   "codemirror_mode": {
    "name": "ipython",
    "version": 3
   },
   "file_extension": ".py",
   "mimetype": "text/x-python",
   "name": "python",
   "nbconvert_exporter": "python",
   "pygments_lexer": "ipython3",
   "version": "3.8.20"
  }
 },
 "nbformat": 4,
 "nbformat_minor": 5
}
